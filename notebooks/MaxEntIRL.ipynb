{
  "cells": [
    {
      "cell_type": "markdown",
      "metadata": {
        "id": "BqhUr-M7gfS7"
      },
      "source": [
        "# Sample program for maximum entropy inverse reinforcement learning. \n",
        "This notebook implements maximum entropy inverse reinforcement learning (Ziebart et al., 2008; Wulfmeier et al., 2017). The algorithms are evaluated on the deterministic [FrozenLake](https://gymnasium.farama.org/environments/toy_text/frozen_lake/) provided by the [Gymnasium](https://gymnasium.farama.org/). There are 8x8 possible states and 4 discrete deterministic actions.The codes of this notebook are based on the following pages:\n",
        "* https://github.com/yasufumy/python_irl\n",
        "* https://github.com/yrlu/irl-imitation\n",
        "* https://github.com/harpribot/IRL-maxent\n",
        "\n",
        "References\n",
        "* B. D. Ziebart, A. Maas, J. Andrew Bagnell, and A. K. Dey. (2008). [Maximum Entropy Inverse Reinforcement Learning](https://www.aaai.org/Library/AAAI/2008/aaai08-227.php). In Proc. of AAAI. \n",
        "* M. Wulfmeier, D. Rao, D. ZengWang, P. Ondruska,\n",
        "and I. Posner. (2017). [Large-scale cost function learning for path planning using deep inverse\n",
        "reinforcement learning](https://doi.org/10.1177/0278364917722396). Internationa Journal of Robotics Research, 36(10): 1073-1087.\n"
      ]
    },
    {
      "cell_type": "code",
      "execution_count": 114,
      "metadata": {
        "id": "ANzLep6osEvU",
        "outputId": "1d31be86-13c8-4290-dd54-ca5c5507b9b1",
        "colab": {
          "base_uri": "https://localhost:8080/"
        }
      },
      "outputs": [
        {
          "output_type": "stream",
          "name": "stdout",
          "text": [
            "Looking in indexes: https://pypi.org/simple, https://us-python.pkg.dev/colab-wheels/public/simple/\n",
            "Requirement already satisfied: gymnasium in /usr/local/lib/python3.8/dist-packages (0.27.1)\n",
            "Requirement already satisfied: cloudpickle>=1.2.0 in /usr/local/lib/python3.8/dist-packages (from gymnasium) (2.2.0)\n",
            "Requirement already satisfied: numpy>=1.21.0 in /usr/local/lib/python3.8/dist-packages (from gymnasium) (1.21.6)\n",
            "Requirement already satisfied: importlib-metadata>=4.8.0 in /usr/local/lib/python3.8/dist-packages (from gymnasium) (6.0.0)\n",
            "Requirement already satisfied: gymnasium-notices>=0.0.1 in /usr/local/lib/python3.8/dist-packages (from gymnasium) (0.0.1)\n",
            "Requirement already satisfied: typing-extensions>=4.3.0 in /usr/local/lib/python3.8/dist-packages (from gymnasium) (4.4.0)\n",
            "Requirement already satisfied: jax-jumpy>=0.2.0 in /usr/local/lib/python3.8/dist-packages (from gymnasium) (0.2.0)\n",
            "Requirement already satisfied: zipp>=0.5 in /usr/local/lib/python3.8/dist-packages (from importlib-metadata>=4.8.0->gymnasium) (3.11.0)\n"
          ]
        }
      ],
      "source": [
        "import numpy as np\n",
        "import matplotlib.pyplot as plt\n",
        "!pip install gymnasium\n",
        "import gymnasium as gym\n",
        "import random\n",
        "from itertools import product\n",
        "# %matplotlib inline\n",
        "\n",
        "env = gym.make('FrozenLake-v1', render_mode='ansi', desc=None, map_name='8x8', is_slippery=False)"
      ]
    },
    {
      "cell_type": "markdown",
      "metadata": {
        "id": "RAu1AnqwvxRT"
      },
      "source": [
        "# Value iteration\n",
        "Applying the Bellman optimality operator to find the optimal state-action value function. \n",
        "$$V(s) \\leftarrow \\max_a Q(s, a), \\quad Q(s, a) = r(s) + \\gamma \\sum_{s'} p_T (s' \\mid s, a) V(s').$$\n",
        "compute_action_value(state) represents the action value at state \"state.\" For simplicity, the optimal policy is approximated by setting $\\beta$ to a large value.\n",
        "$$\\pi (a \\mid s) = \\frac{\\exp (\\beta Q(s, a))} {\\sum_{a'} \\exp (\\beta Q(s, a'))}.$$\n"
      ]
    },
    {
      "cell_type": "code",
      "execution_count": 112,
      "metadata": {
        "id": "y0JcQH-wsaJO"
      },
      "outputs": [],
      "source": [
        "class ValueIteration:\n",
        "    def __init__(self, env):\n",
        "        self.env = env\n",
        "\n",
        "    \n",
        "    def __call__(self, gamma=0.9, beta=500, reward_function=None):\n",
        "        n_states = env.observation_space.n\n",
        "        n_actions = env.action_space.n\n",
        "        V = np.random.rand(n_states)\n",
        "        epslion = 1e-5\n",
        "\n",
        "        def compute_action_value(state):\n",
        "            qA = np.zeros(n_actions)\n",
        "            for action in range(n_actions):\n",
        "                for prob, next_state, reward, done in self.env.P[state][action]:\n",
        "                    if reward_function is not None:\n",
        "                        reward = reward_function[state]\n",
        "                    qA[action] += prob * (reward + gamma * V[next_state])\n",
        "            return qA\n",
        "\n",
        "\n",
        "        def compute_softmax_policy(beta):\n",
        "            policy = np.zeros([n_states, n_actions])\n",
        "            for state in range(n_states):\n",
        "                policy[state] = beta*compute_action_value(state)\n",
        "            policy -= policy.max(axis=1, keepdims=True)\n",
        "            policy = np.exp(policy) / np.exp(policy).sum(axis=1, keepdims=True)\n",
        "\n",
        "            return policy\n",
        "\n",
        "        V_error = list([])\n",
        "\n",
        "        while True:\n",
        "            delta = 0\n",
        "            for state in range(n_states):\n",
        "                qA = compute_action_value(state)\n",
        "                max_q = qA.max()\n",
        "                delta = max(delta, np.abs(max_q - V[state]))\n",
        "                V[state] = max_q\n",
        "            V_error.append(delta)\n",
        "            if delta < epslion:\n",
        "                break\n",
        "\n",
        "        policy = compute_softmax_policy(beta)\n",
        "\n",
        "        return V, policy, V_error\n",
        "\n",
        "\n",
        "def visualize_V(V, V_error):\n",
        "    fig, axs = plt.subplots(1, 2, figsize=(12, 5))\n",
        "    im1 = axs[0].pcolor(V.reshape(8, 8)[::-1, :])\n",
        "    axs[0].set_title('state-value function, V')\n",
        "    axs[0].set_aspect(1.0/axs[0].get_data_ratio(), adjustable='box')\n",
        "    fig.colorbar(im1, ax=axs[0])\n",
        "    axs[1].plot(V_error)\n",
        "    axs[1].set_xlabel('total number of iterations')\n",
        "    axs[1].set_ylabel('error')\n",
        "    axs[1].set_title('convergence')"
      ]
    },
    {
      "cell_type": "markdown",
      "metadata": {
        "id": "qA8NNtyYCHDs"
      },
      "source": [
        "## Calculate the state value and retrieve the policy"
      ]
    },
    {
      "cell_type": "code",
      "execution_count": 115,
      "metadata": {
        "id": "VP8niyz9s-aP",
        "outputId": "f1364059-2866-4ead-e6c1-4df5fcd240be",
        "colab": {
          "base_uri": "https://localhost:8080/",
          "height": 350
        }
      },
      "outputs": [
        {
          "output_type": "display_data",
          "data": {
            "text/plain": [
              "<Figure size 864x360 with 3 Axes>"
            ],
            "image/png": "[encoded data removed]"
          },
          "metadata": {
            "needs_background": "light"
          }
        }
      ],
      "source": [
        "# np.random.seed(seed=0)\n",
        "value_iteration = ValueIteration(env)\n",
        "V, policy, V_error = value_iteration(gamma=0.9, beta=500)\n",
        "visualize_V(V, V_error)"
      ]
    },
    {
      "cell_type": "markdown",
      "metadata": {
        "id": "7QTpDV6G2b--"
      },
      "source": [
        "## Show the optimal behavior"
      ]
    },
    {
      "cell_type": "code",
      "execution_count": 117,
      "metadata": {
        "id": "FPtyINkQ2b-_",
        "outputId": "046068a0-b6cb-4168-d33e-572c4fba497c",
        "colab": {
          "base_uri": "https://localhost:8080/"
        }
      },
      "outputs": [
        {
          "output_type": "stream",
          "name": "stdout",
          "text": [
            "\n",
            "\u001b[41mS\u001b[0mFFFFFFF\n",
            "FFFFFFFF\n",
            "FFFHFFFF\n",
            "FFFFFHFF\n",
            "FFFHFFFF\n",
            "FHHFFFHF\n",
            "FHFFHFHF\n",
            "FFFHFFFG\n",
            "\n",
            "  (Down)\n",
            "SFFFFFFF\n",
            "\u001b[41mF\u001b[0mFFFFFFF\n",
            "FFFHFFFF\n",
            "FFFFFHFF\n",
            "FFFHFFFF\n",
            "FHHFFFHF\n",
            "FHFFHFHF\n",
            "FFFHFFFG\n",
            "\n",
            "  (Down)\n",
            "SFFFFFFF\n",
            "FFFFFFFF\n",
            "\u001b[41mF\u001b[0mFFHFFFF\n",
            "FFFFFHFF\n",
            "FFFHFFFF\n",
            "FHHFFFHF\n",
            "FHFFHFHF\n",
            "FFFHFFFG\n",
            "\n",
            "  (Down)\n",
            "SFFFFFFF\n",
            "FFFFFFFF\n",
            "FFFHFFFF\n",
            "\u001b[41mF\u001b[0mFFFFHFF\n",
            "FFFHFFFF\n",
            "FHHFFFHF\n",
            "FHFFHFHF\n",
            "FFFHFFFG\n",
            "\n",
            "  (Right)\n",
            "SFFFFFFF\n",
            "FFFFFFFF\n",
            "FFFHFFFF\n",
            "F\u001b[41mF\u001b[0mFFFHFF\n",
            "FFFHFFFF\n",
            "FHHFFFHF\n",
            "FHFFHFHF\n",
            "FFFHFFFG\n",
            "\n",
            "  (Right)\n",
            "SFFFFFFF\n",
            "FFFFFFFF\n",
            "FFFHFFFF\n",
            "FF\u001b[41mF\u001b[0mFFHFF\n",
            "FFFHFFFF\n",
            "FHHFFFHF\n",
            "FHFFHFHF\n",
            "FFFHFFFG\n",
            "\n",
            "  (Right)\n",
            "SFFFFFFF\n",
            "FFFFFFFF\n",
            "FFFHFFFF\n",
            "FFF\u001b[41mF\u001b[0mFHFF\n",
            "FFFHFFFF\n",
            "FHHFFFHF\n",
            "FHFFHFHF\n",
            "FFFHFFFG\n",
            "\n",
            "  (Right)\n",
            "SFFFFFFF\n",
            "FFFFFFFF\n",
            "FFFHFFFF\n",
            "FFFF\u001b[41mF\u001b[0mHFF\n",
            "FFFHFFFF\n",
            "FHHFFFHF\n",
            "FHFFHFHF\n",
            "FFFHFFFG\n",
            "\n",
            "  (Down)\n",
            "SFFFFFFF\n",
            "FFFFFFFF\n",
            "FFFHFFFF\n",
            "FFFFFHFF\n",
            "FFFH\u001b[41mF\u001b[0mFFF\n",
            "FHHFFFHF\n",
            "FHFFHFHF\n",
            "FFFHFFFG\n",
            "\n",
            "  (Down)\n",
            "SFFFFFFF\n",
            "FFFFFFFF\n",
            "FFFHFFFF\n",
            "FFFFFHFF\n",
            "FFFHFFFF\n",
            "FHHF\u001b[41mF\u001b[0mFHF\n",
            "FHFFHFHF\n",
            "FFFHFFFG\n",
            "\n",
            "  (Right)\n",
            "SFFFFFFF\n",
            "FFFFFFFF\n",
            "FFFHFFFF\n",
            "FFFFFHFF\n",
            "FFFHFFFF\n",
            "FHHFF\u001b[41mF\u001b[0mHF\n",
            "FHFFHFHF\n",
            "FFFHFFFG\n",
            "\n",
            "  (Down)\n",
            "SFFFFFFF\n",
            "FFFFFFFF\n",
            "FFFHFFFF\n",
            "FFFFFHFF\n",
            "FFFHFFFF\n",
            "FHHFFFHF\n",
            "FHFFH\u001b[41mF\u001b[0mHF\n",
            "FFFHFFFG\n",
            "\n",
            "  (Down)\n",
            "SFFFFFFF\n",
            "FFFFFFFF\n",
            "FFFHFFFF\n",
            "FFFFFHFF\n",
            "FFFHFFFF\n",
            "FHHFFFHF\n",
            "FHFFHFHF\n",
            "FFFHF\u001b[41mF\u001b[0mFG\n",
            "\n",
            "  (Right)\n",
            "SFFFFFFF\n",
            "FFFFFFFF\n",
            "FFFHFFFF\n",
            "FFFFFHFF\n",
            "FFFHFFFF\n",
            "FHHFFFHF\n",
            "FHFFHFHF\n",
            "FFFHFF\u001b[41mF\u001b[0mG\n",
            "\n",
            "  (Right)\n",
            "SFFFFFFF\n",
            "FFFFFFFF\n",
            "FFFHFFFF\n",
            "FFFFFHFF\n",
            "FFFHFFFF\n",
            "FHHFFFHF\n",
            "FHFFHFHF\n",
            "FFFHFFF\u001b[41mG\u001b[0m\n",
            "\n",
            "total rewards: 1.000000, total_steps: 14\n"
          ]
        }
      ],
      "source": [
        "state, info = env.reset()\n",
        "done = False\n",
        "total_rewards = 0\n",
        "total_steps = 0\n",
        "while not done:\n",
        "    print(env.render())\n",
        "    action = np.random.multinomial(1, policy[state]).argmax()\n",
        "    state, reward, terminated, truncated, info = env.step(action)\n",
        "    done = terminated or truncated\n",
        "    total_rewards += reward\n",
        "    total_steps = total_steps + 1\n",
        "print(env.render())\n",
        "print('total rewards: %f, total_steps: %d' % (total_rewards, total_steps))"
      ]
    },
    {
      "cell_type": "markdown",
      "metadata": {
        "id": "cVbz1-bGv9Sy"
      },
      "source": [
        "## Collect the expert data by running the optimal policy\n",
        "The expert policy is given by the optimal policy trained with the original reward function. Then, generate a set of state-action sequences to collect the expert data $\\mathcal{D}^E = \\{ \\tau_k \\}_{k=1}^{N^E}$, $\\tau_k = (s_0^k, s_1^k, \\ldots, s_T^k)$."
      ]
    },
    {
      "cell_type": "code",
      "execution_count": 118,
      "metadata": {
        "id": "2TWhpwzvts5t",
        "outputId": "4d88a641-319f-4a17-e724-ef4cb74c7a7c",
        "colab": {
          "base_uri": "https://localhost:8080/"
        }
      },
      "outputs": [
        {
          "output_type": "stream",
          "name": "stdout",
          "text": [
            "[[ 2  8 16 ... 63 63 63]\n",
            " [ 2  8 16 ... 63 63 63]\n",
            " [ 2  8 16 ... 63 63 63]\n",
            " ...\n",
            " [22  8  9 ... 63 63 63]\n",
            " [22  8  9 ... 63 63 63]\n",
            " [22  8  9 ... 63 63 63]]\n"
          ]
        }
      ],
      "source": [
        "def sample_trajectories(env, policy, n_steps=20, n_trajectories=100, initial_states=None):\n",
        "  if initial_states is None:\n",
        "    states = np.random.choice(np.arange(0, env.observation_space.n), n_trajectories)\n",
        "  else:\n",
        "    states = initial_states\n",
        "\n",
        "  trajectories = []\n",
        "  for state in states:\n",
        "    env.reset()\n",
        "    env.s = state\n",
        "    done = False\n",
        "    trajectory = []\n",
        "    for i in range(n_steps):\n",
        "      action = np.random.multinomial(1, policy[state]).argmax()\n",
        "      trajectory.append(state)\n",
        "      state, reward, terminated, truncated, info = env.step(action)\n",
        "      done = truncated or terminated \n",
        "      if done:\n",
        "        trajectory.extend([state] * (n_steps - len(trajectory)))\n",
        "        break\n",
        "\n",
        "      trajectories.append(trajectory)\n",
        "\n",
        "  return np.array(trajectories)\n",
        "\n",
        "trajectories = sample_trajectories(env, policy)\n",
        "print(trajectories)"
      ]
    },
    {
      "cell_type": "markdown",
      "metadata": {
        "id": "t00FcY96wH14"
      },
      "source": [
        "## Compute the expected feature count"
      ]
    },
    {
      "cell_type": "code",
      "execution_count": 119,
      "metadata": {
        "id": "rd5uJn8GEotK",
        "outputId": "79040ee1-4b45-4696-d835-220d97fa0ffe",
        "colab": {
          "base_uri": "https://localhost:8080/"
        }
      },
      "outputs": [
        {
          "output_type": "stream",
          "name": "stdout",
          "text": [
            "[[0.19984802 0.48784195 0.3381459  0.17933131 0.10942249 0.02963526\n",
            "  0.01975684 0.00987842 0.55167173 0.46048632 0.42857143 0.24848024\n",
            "  0.30851064 0.17857143 0.08890578 0.03951368]\n",
            " [0.27051672 0.34194529 0.43009119 0.         0.14969605 0.14969605\n",
            "  0.19908815 0.13981763 0.10942249 0.28115502 0.7112462  0.7112462\n",
            "  0.80091185 0.00987842 0.09878419 0.16945289]\n",
            " [0.03115502 0.         0.03191489 0.0106383  0.80091185 0.43009119\n",
            "  0.21884498 0.39817629 0.06155015 0.0106383  0.0106383  0.\n",
            "  0.40045593 0.62158055 0.         0.39817629]\n",
            " [0.01975684 0.02051672 0.01975684 0.         0.01975684 0.67097264\n",
            "  0.0106383  0.37841945 0.01975684 0.00987842 0.0106383  0.0106383\n",
            "  0.01975684 0.63145897 0.63145897 5.85030395]]\n"
          ]
        }
      ],
      "source": [
        "def compute_feature(n_features, trajectories):\n",
        "  n_trajectories, n_steps = trajectories.shape\n",
        "  phi = np.zeros(n_features)\n",
        "  traj_flatten = trajectories.ravel()\n",
        "  for state in traj_flatten:\n",
        "      phi[state] += 1\n",
        "  phi /= n_trajectories\n",
        "\n",
        "  return phi\n",
        "\n",
        "experts_feature = compute_feature(env.observation_space.n, trajectories)\n",
        "#experts_feature = np.load('experts_feature.npy')\n",
        "print(experts_feature.reshape(4, -1))"
      ]
    },
    {
      "cell_type": "markdown",
      "metadata": {
        "id": "Zmr1XXtKwPWp"
      },
      "source": [
        "# Maximum entropy inverse reinforcement learning\n",
        "The probability to generate the state sequence $\\tau$ is given by\n",
        "$$p(\\tau \\mid w) = \\frac{1}{Z(w)} \\exp \\left( R(\\tau; w) \\right), \\quad Z(w) = \\sum_{\\tau'} \\exp \\left( R(\\tau'; w) \\right), $$\n",
        "where $R(\\tau; w)$ is the total return:\n",
        "$$R(\\tau; w) = \\sum_{t=0}^T \\gamma^t r(s_t; w), $$\n",
        "$w$ is the parameter of the reward function, and $\\gamma$ is the discount factor. For the given expert data, the log likelihood is calculated by\n",
        "$$\\mathcal{L}(w) = \\frac{1}{N^E} \\sum_{k=1}^{N^E} \\ln p(\\tau_k; w).$$\n",
        "Then, its gradient is given by\n",
        "$$\\nabla_w \\mathcal{L}(w) = \\frac{1}{N^E} \\sum_{k=1}^{N^E} \\nabla_w R(\\tau_k; w) - \\sum_{\\tau} p(\\tau \\mid w) \\nabla_w R(\\tau; w).$$\n",
        "The reward parameter is updated by the stochastic gradient ascent. "
      ]
    },
    {
      "cell_type": "code",
      "execution_count": 120,
      "metadata": {
        "id": "yyELh02AFyxU"
      },
      "outputs": [],
      "source": [
        "def compute_visitation(env, policy, trajectories):\n",
        "    n_states = env.observation_space.n\n",
        "    n_actions = env.action_space.n\n",
        "    probs = env.P\n",
        "    n_trajectories, n_steps = trajectories.shape\n",
        "\n",
        "    mu = np.zeros((n_steps, n_states))\n",
        "    for trajectory in trajectories:\n",
        "        mu[0, trajectory[0]] += 1\n",
        "    mu /= n_trajectories\n",
        "\n",
        "    states = range(n_states)\n",
        "    actions = range(n_actions)\n",
        "    for t in range(1, n_steps):\n",
        "        for state, action in product(states, actions):\n",
        "          for prob, next_state, _, _ in probs[state][action]:\n",
        "              mu[t][next_state] += mu[t-1][state] * policy[state][action] * prob\n",
        "\n",
        "    return mu.sum(axis=0)\n",
        "\n",
        "\n",
        "class MaxEntIRL:\n",
        "    def __init__(self, env, experts_feature, trajectories):\n",
        "        self.env = env\n",
        "        self.experts_feature = experts_feature\n",
        "        self.trajectories = trajectories\n",
        "\n",
        "    def __call__(self, policy, n_epochs, gamma=0.9, beta=500):\n",
        "        value_iteration = ValueIteration(self.env)\n",
        "        reward_function = np.zeros(self.env.observation_space.n)\n",
        "        learning_rate = 0.1\n",
        "\n",
        "        for i in range(n_epochs):\n",
        "            V, policy, V_error = value_iteration(gamma, beta, reward_function=reward_function)\n",
        "            learners_feature = compute_visitation(self.env, policy, self.trajectories)\n",
        "            grad = self.experts_feature - learners_feature\n",
        "            reward_function += learning_rate * grad\n",
        "\n",
        "        return reward_function, V"
      ]
    },
    {
      "cell_type": "code",
      "execution_count": 121,
      "metadata": {
        "id": "DpKYvp3joZKp"
      },
      "outputs": [],
      "source": [
        "maxent_irl = MaxEntIRL(env, experts_feature, trajectories)\n",
        "reward_function, V = maxent_irl(policy, n_epochs=50, gamma=0.9)\n",
        "# print(reward_function.reshape(8, 8)[::1, :])\n",
        "# print(V.reshape(8, 8)[::1, :])"
      ]
    },
    {
      "cell_type": "markdown",
      "metadata": {
        "id": "kQdJSIjX2oLq"
      },
      "source": [
        "## Show results."
      ]
    },
    {
      "cell_type": "code",
      "execution_count": 122,
      "metadata": {
        "id": "fcKRxbNWw0mV",
        "outputId": "9df6550c-f4b1-43e7-d9a8-2d9c54c62cf5",
        "colab": {
          "base_uri": "https://localhost:8080/",
          "height": 281
        }
      },
      "outputs": [
        {
          "output_type": "display_data",
          "data": {
            "text/plain": [
              "<Figure size 720x288 with 4 Axes>"
            ],
            "image/png": "[encoded data removed]"
          },
          "metadata": {
            "needs_background": "light"
          }
        }
      ],
      "source": [
        "def plot_results(reward_function, V):\n",
        "  fig, axs = plt.subplots(1, 2, figsize=(10, 4))\n",
        "  im1 = axs[0].pcolor(reward_function.reshape(8, 8)[::-1, :])\n",
        "  axs[0].set_title('reward function')\n",
        "  fig.colorbar(im1, ax=axs[0])\n",
        "  im2 = axs[1].pcolor(V.reshape(8, 8)[::-1, :])\n",
        "  axs[1].set_title('value function')\n",
        "  fig.colorbar(im2, ax=axs[1])\n",
        "  plt.show()\n",
        "\n",
        "plot_results(reward_function, V)"
      ]
    },
    {
      "cell_type": "markdown",
      "metadata": {
        "id": "FoQ4NpmHeoRd"
      },
      "source": [
        "# Modified maximum inverse reinforcement learning\n",
        "\n",
        "The second term of the gradient of the log likelihood is approximated using samples generated by the learner's policy:\n",
        "$$\\nabla_w \\mathcal{L}(w) = \\frac{1}{N^E} \\sum_{k=1}^{N^E} \\nabla_w R(\\tau_k; w) - \\frac{1}{N^L} \\sum_{j=1}^{N^L} \\nabla_w R(\\tau_j; w)$$"
      ]
    },
    {
      "cell_type": "code",
      "execution_count": 123,
      "metadata": {
        "id": "HSEYQUKxYFRG"
      },
      "outputs": [],
      "source": [
        "class MaxEntIRLSample:\n",
        "  def __init__(self, env, experts_feature, trajectories):\n",
        "    self.env = env\n",
        "    self.experts_feature = experts_feature\n",
        "    self.n_trajectories, self.n_steps = trajectories.shape\n",
        "    self.initial_states = trajectories[:, 0]\n",
        "\n",
        "  def __call__(self, policy, n_epochs, gamma=0.9, beta=500, epsilon=1e-5):\n",
        "    value_iteration = ValueIteration(self.env)\n",
        "    reward_function = np.zeros(self.env.observation_space.n)\n",
        "    learning_rate = 0.1\n",
        "\n",
        "    for i in range(n_epochs):\n",
        "      V, policy, V_error = value_iteration(gamma, beta, reward_function)\n",
        "      trajectories = sample_trajectories(self.env, policy, self.n_steps,\n",
        "                                         self.n_trajectories,\n",
        "                                         self.initial_states)\n",
        "      learners_feature = compute_feature(self.env.observation_space.n, trajectories)\n",
        "      grad = self.experts_feature - learners_feature\n",
        "      reward_function += learning_rate * grad\n",
        "\n",
        "    return reward_function, V"
      ]
    },
    {
      "cell_type": "code",
      "execution_count": 124,
      "metadata": {
        "id": "WPb4jrgdYSG4",
        "outputId": "3dd9e73e-457d-4c18-e8a6-9f3c17134c94",
        "colab": {
          "base_uri": "https://localhost:8080/",
          "height": 281
        }
      },
      "outputs": [
        {
          "output_type": "display_data",
          "data": {
            "text/plain": [
              "<Figure size 720x288 with 4 Axes>"
            ],
            "image/png": "[encoded data removed]"
          },
          "metadata": {
            "needs_background": "light"
          }
        }
      ],
      "source": [
        "maxent_irl_sample = MaxEntIRLSample(env, experts_feature, trajectories)\n",
        "reward_function, V = maxent_irl_sample(policy, n_epochs=50, gamma=0.9)\n",
        "# print(reward_function.reshape(4, 4)[::1, :])\n",
        "# print(V.reshape(4, 4)[::1, :])\n",
        "plot_results(reward_function, V)"
      ]
    }
  ],
  "metadata": {
    "colab": {
      "name": "MaxEntIRL.ipynb",
      "provenance": []
    },
    "kernelspec": {
      "display_name": "Python 3 (ipykernel)",
      "language": "python",
      "name": "python3"
    },
    "language_info": {
      "codemirror_mode": {
        "name": "ipython",
        "version": 3
      },
      "file_extension": ".py",
      "mimetype": "text/x-python",
      "name": "python",
      "nbconvert_exporter": "python",
      "pygments_lexer": "ipython3",
      "version": "3.10.4"
    }
  },
  "nbformat": 4,
  "nbformat_minor": 0
}